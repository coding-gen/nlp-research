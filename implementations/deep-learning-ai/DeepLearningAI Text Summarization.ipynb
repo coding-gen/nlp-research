{
 "cells": [
  {
   "cell_type": "markdown",
   "id": "4f4f7e8a",
   "metadata": {},
   "source": [
    "# ChatGPT Guide from DeepLearning.AI\n",
    "link: [https://learn.deeplearning.ai/chatgpt-prompt-eng/lesson/4/summarizing](https://learn.deeplearning.ai/chatgpt-prompt-eng/lesson/4/summarizing)"
   ]
  },
  {
   "cell_type": "markdown",
   "id": "05057362",
   "metadata": {},
   "source": [
    "# Set OpenAI Key\n",
    "Set the key as env var or in .env file. See file .env.example for an example format."
   ]
  },
  {
   "cell_type": "code",
   "execution_count": 1,
   "id": "e240b675",
   "metadata": {},
   "outputs": [],
   "source": [
    "import openai\n",
    "import os\n",
    "\n",
    "from dotenv import load_dotenv, find_dotenv\n",
    "_ = load_dotenv(find_dotenv())\n",
    "\n",
    "openai.api_key  = os.getenv('OPENAI_API_KEY')"
   ]
  },
  {
   "cell_type": "code",
   "execution_count": 2,
   "id": "60bda3e9",
   "metadata": {},
   "outputs": [],
   "source": [
    "def get_completion(prompt, model=\"gpt-3.5-turbo\"):\n",
    "    messages = [{\"role\": \"user\", \"content\": prompt}]\n",
    "    response = openai.ChatCompletion.create(\n",
    "        model=model,\n",
    "        messages=messages,\n",
    "        temperature=0, # this is the degree of randomness of the model's output\n",
    "    )\n",
    "    return response.choices[0].message[\"content\"]"
   ]
  },
  {
   "cell_type": "markdown",
   "id": "d34550fb",
   "metadata": {},
   "source": [
    "# Text Summarization"
   ]
  },
  {
   "cell_type": "code",
   "execution_count": 3,
   "id": "60fba4ab",
   "metadata": {},
   "outputs": [],
   "source": [
    "prod_review = \"\"\"\n",
    "Got this panda plush toy for my daughter's birthday, \n",
    "who loves it and takes it everywhere. It's soft and \n",
    "super cute, and its face has a friendly look. It's \n",
    "a bit small for what I paid though. I think there \n",
    "might be other options that are bigger for the \n",
    "same price. It arrived a day earlier than expected, \n",
    "so I got to play with it myself before I gave it \n",
    "to her.\n",
    "\"\"\""
   ]
  },
  {
   "cell_type": "code",
   "execution_count": 4,
   "id": "0978c140",
   "metadata": {},
   "outputs": [
    {
     "name": "stdout",
     "output_type": "stream",
     "text": [
      "Soft and cute panda plush toy loved by daughter, but a bit small for the price. Arrived early.\n"
     ]
    }
   ],
   "source": [
    "# Limit word count\n",
    "prompt = f\"\"\"\n",
    "Your task is to generate a short summary of a product \n",
    "review from an ecommerce site. \n",
    "\n",
    "Summarize the review below, delimited by triple \n",
    "backticks, in at most 30 words. \n",
    "\n",
    "Review: ```{prod_review}```\n",
    "\"\"\"\n",
    "\n",
    "response = get_completion(prompt)\n",
    "print(response)"
   ]
  },
  {
   "cell_type": "code",
   "execution_count": 5,
   "id": "9a4e4ad8",
   "metadata": {},
   "outputs": [
    {
     "name": "stdout",
     "output_type": "stream",
     "text": [
      "The panda plush toy arrived a day earlier than expected, but the customer felt it was a bit small for the price paid.\n"
     ]
    }
   ],
   "source": [
    "# Shipping focus\n",
    "prompt = f\"\"\"\n",
    "Your task is to generate a short summary of a product \n",
    "review from an ecommerce site to give feedback to the \n",
    "Shipping department. \n",
    "\n",
    "Summarize the review below, delimited by triple \n",
    "backticks, in at most 30 words, and focusing on any aspects \n",
    "that mention shipping and delivery of the product. \n",
    "\n",
    "Review: ```{prod_review}```\n",
    "\"\"\"\n",
    "\n",
    "response = get_completion(prompt)\n",
    "print(response)"
   ]
  },
  {
   "cell_type": "code",
   "execution_count": 11,
   "id": "8f7d72b8",
   "metadata": {},
   "outputs": [
    {
     "name": "stdout",
     "output_type": "stream",
     "text": [
      "This panda plush toy is soft and cute, but a bit small for the price. Other options may offer better value.\n"
     ]
    }
   ],
   "source": [
    "# Focus on price and value\n",
    "prompt = f\"\"\"\n",
    "Your task is to generate a short summary of a product \n",
    "review from an ecommerce site to give feedback to the \n",
    "pricing deparmtment, responsible for determining the \n",
    "price of the product.  \n",
    "\n",
    "Summarize the review below, delimited by triple \n",
    "backticks, in at most 30 words, and focusing on any aspects \n",
    "that are relevant to the price and perceived value. \n",
    "\n",
    "Review: ```{prod_review}```\n",
    "\"\"\"\n",
    "\n",
    "response = get_completion(prompt)\n",
    "print(response)"
   ]
  },
  {
   "cell_type": "code",
   "execution_count": 10,
   "id": "6eb9eece",
   "metadata": {},
   "outputs": [
    {
     "name": "stdout",
     "output_type": "stream",
     "text": [
      "```Soft and cute panda plush toy, loved by daughter. However, a bit small for the price paid. Consider offering larger options for the same price.```\n"
     ]
    }
   ],
   "source": [
    "# Interesting detail: if you leave in the backticks that denote end of line, \n",
    "# the model will delimit the output like the input.\n",
    "\n",
    "prompt = f\"\"\"\n",
    "Your task is to generate a short summary of a product \\\n",
    "review from an ecommerce site to give feedback to the \\\n",
    "pricing deparmtment, responsible for determining the \\\n",
    "price of the product.  \n",
    "\n",
    "Summarize the review below, delimited by triple \n",
    "backticks, in at most 30 words, and focusing on any aspects \\\n",
    "that are relevant to the price and perceived value. \n",
    "\n",
    "Review: ```{prod_review}```\n",
    "\"\"\"\n",
    "\n",
    "response = get_completion(prompt)\n",
    "print(response)"
   ]
  },
  {
   "cell_type": "code",
   "execution_count": 16,
   "id": "e6ea55d8",
   "metadata": {},
   "outputs": [
    {
     "name": "stdout",
     "output_type": "stream",
     "text": [
      "Sentiment: Positive\n",
      "Reasoning: The reviewer expresses satisfaction with the product, describing it as soft, cute, and friendly-looking. They also mention that their daughter loves it and takes it everywhere. Although they note that the toy is a bit small for the price, they do not seem overly bothered by this and suggest that there may be other options available. Additionally, the fact that the product arrived a day earlier than expected is seen as a positive. Overall, the review conveys a positive sentiment towards the product and suggests that customers would be likely to buy similar items.\n"
     ]
    }
   ],
   "source": [
    "prompt = f\"\"\"\n",
    "Your task is to generate a an analysis of the sentiment of a product \n",
    "review from an ecommerce site to determine if customers would be \n",
    "likely to buy similar products.\n",
    "\n",
    "Indicate whether this review, delimited by triple backticks, is a \n",
    "negative, positive, or neutral review. Next, indicate why you would\n",
    "classify it that way in about 50 words.\n",
    "\n",
    "Structure your response like this:\n",
    "Sentiment: \n",
    "Reasoning:\n",
    "\n",
    "Review: ```{prod_review}```\n",
    "\"\"\"\n",
    "\n",
    "response = get_completion(prompt)\n",
    "print(response)"
   ]
  },
  {
   "cell_type": "markdown",
   "id": "f6fdf513",
   "metadata": {},
   "source": [
    "# Text Extraction"
   ]
  },
  {
   "cell_type": "code",
   "execution_count": 17,
   "id": "ac23cd67",
   "metadata": {},
   "outputs": [
    {
     "name": "stdout",
     "output_type": "stream",
     "text": [
      "The product arrived a day earlier than expected.\n"
     ]
    }
   ],
   "source": [
    "prompt = f\"\"\"\n",
    "Your task is to extract relevant information from \n",
    "a product review from an ecommerce site to give \n",
    "feedback to the Shipping department. \n",
    "\n",
    "From the review below, delimited by triple back ticks, \n",
    "extract the information relevant to shipping and \n",
    "delivery. Limit to 30 words. \n",
    "\n",
    "Review: ```{prod_review}```\n",
    "\"\"\"\n",
    "\n",
    "response = get_completion(prompt)\n",
    "print(response)"
   ]
  },
  {
   "cell_type": "markdown",
   "id": "d2f22b9a",
   "metadata": {},
   "source": [
    "# Multiples"
   ]
  },
  {
   "cell_type": "code",
   "execution_count": 18,
   "id": "0673d7aa",
   "metadata": {},
   "outputs": [],
   "source": [
    "review_1 = prod_review \n",
    "\n",
    "# review for a standing lamp\n",
    "review_2 = \"\"\"\n",
    "Needed a nice lamp for my bedroom, and this one \\\n",
    "had additional storage and not too high of a price \\\n",
    "point. Got it fast - arrived in 2 days. The string \\\n",
    "to the lamp broke during the transit and the company \\\n",
    "happily sent over a new one. Came within a few days \\\n",
    "as well. It was easy to put together. Then I had a \\\n",
    "missing part, so I contacted their support and they \\\n",
    "very quickly got me the missing piece! Seems to me \\\n",
    "to be a great company that cares about their customers \\\n",
    "and products. \n",
    "\"\"\"\n",
    "\n",
    "# review for an electric toothbrush\n",
    "review_3 = \"\"\"\n",
    "My dental hygienist recommended an electric toothbrush, \\\n",
    "which is why I got this. The battery life seems to be \\\n",
    "pretty impressive so far. After initial charging and \\\n",
    "leaving the charger plugged in for the first week to \\\n",
    "condition the battery, I've unplugged the charger and \\\n",
    "been using it for twice daily brushing for the last \\\n",
    "3 weeks all on the same charge. But the toothbrush head \\\n",
    "is too small. I’ve seen baby toothbrushes bigger than \\\n",
    "this one. I wish the head was bigger with different \\\n",
    "length bristles to get between teeth better because \\\n",
    "this one doesn’t.  Overall if you can get this one \\\n",
    "around the $50 mark, it's a good deal. The manufactuer's \\\n",
    "replacements heads are pretty expensive, but you can \\\n",
    "get generic ones that're more reasonably priced. This \\\n",
    "toothbrush makes me feel like I've been to the dentist \\\n",
    "every day. My teeth feel sparkly clean! \n",
    "\"\"\"\n",
    "\n",
    "# review for a blender\n",
    "review_4 = \"\"\"\n",
    "So, they still had the 17 piece system on seasonal \\\n",
    "sale for around $49 in the month of November, about \\\n",
    "half off, but for some reason (call it price gouging) \\\n",
    "around the second week of December the prices all went \\\n",
    "up to about anywhere from between $70-$89 for the same \\\n",
    "system. And the 11 piece system went up around $10 or \\\n",
    "so in price also from the earlier sale price of $29. \\\n",
    "So it looks okay, but if you look at the base, the part \\\n",
    "where the blade locks into place doesn’t look as good \\\n",
    "as in previous editions from a few years ago, but I \\\n",
    "plan to be very gentle with it (example, I crush \\\n",
    "very hard items like beans, ice, rice, etc. in the \\ \n",
    "blender first then pulverize them in the serving size \\\n",
    "I want in the blender then switch to the whipping \\\n",
    "blade for a finer flour, and use the cross cutting blade \\\n",
    "first when making smoothies, then use the flat blade \\\n",
    "if I need them finer/less pulpy). Special tip when making \\\n",
    "smoothies, finely cut and freeze the fruits and \\\n",
    "vegetables (if using spinach-lightly stew soften the \\ \n",
    "spinach then freeze until ready for use-and if making \\\n",
    "sorbet, use a small to medium sized food processor) \\ \n",
    "that you plan to use that way you can avoid adding so \\\n",
    "much ice if at all-when making your smoothie. \\\n",
    "After about a year, the motor was making a funny noise. \\\n",
    "I called customer service but the warranty expired \\\n",
    "already, so I had to buy another one. FYI: The overall \\\n",
    "quality has gone done in these types of products, so \\\n",
    "they are kind of counting on brand recognition and \\\n",
    "consumer loyalty to maintain sales. Got it in about \\\n",
    "two days.\n",
    "\"\"\"\n",
    "\n",
    "reviews = [review_1, review_2, review_3, review_4]"
   ]
  },
  {
   "cell_type": "code",
   "execution_count": 20,
   "id": "05e2dc0a",
   "metadata": {},
   "outputs": [
    {
     "name": "stdout",
     "output_type": "stream",
     "text": [
      "0 Soft and cute panda plush toy loved by daughter, but small for price. Arrived early. \n",
      "\n",
      "1 Affordable lamp with storage, fast shipping, and excellent customer service. Easy to assemble and missing parts were quickly replaced. \n",
      "\n",
      "2 Good battery life, small toothbrush head, but effective cleaning. Good deal if bought around $50. \n",
      "\n",
      "3 The product was on sale for $49 in November, but the price increased to $70-$89 in December. The base doesn't look as good as previous editions, but the reviewer plans to be gentle with it. A special tip for making smoothies is to freeze the fruits and vegetables beforehand. The motor made a funny noise after a year, and the warranty had expired. Overall quality has decreased. \n",
      "\n"
     ]
    }
   ],
   "source": [
    "for i in range(len(reviews)):\n",
    "    prompt = f\"\"\"\n",
    "    Your task is to generate a short summary of a product \\ \n",
    "    review from an ecommerce site. \n",
    "\n",
    "    Summarize the review below, delimited by triple \\\n",
    "    backticks in at most 20 words. \n",
    "\n",
    "    Review: ```{reviews[i]}```\n",
    "    \"\"\"\n",
    "\n",
    "    response = get_completion(prompt)\n",
    "    print(i, response, \"\\n\")"
   ]
  },
  {
   "cell_type": "code",
   "execution_count": 21,
   "id": "f87791f0",
   "metadata": {},
   "outputs": [
    {
     "name": "stdout",
     "output_type": "stream",
     "text": [
      "Sentiment: Positive\n",
      "Reasoning: The reviewer expresses overall satisfaction with the product, highlighting its softness, cuteness, and friendly appearance. They also mention that their daughter loves it and takes it everywhere. Although they note that the toy is a bit small for the price, they do not seem overly bothered by it and even suggest that there may be other options available. Additionally, the reviewer is pleased with the early delivery of the product. Overall, the positive aspects of the review outweigh the minor negative comment.\n",
      "Sentiment: Positive\n",
      "Reasoning: The reviewer expresses satisfaction with the lamp's features and price point, as well as the fast delivery. Despite encountering some issues with the product, the company's customer service was responsive and helpful in resolving the problems. The reviewer concludes that the company cares about its customers and products, indicating a positive overall experience.\n",
      "Sentiment: Neutral\n",
      "Reasoning: \n",
      "The review contains both positive and negative aspects. The reviewer is satisfied with the battery life and the overall performance of the toothbrush, but they are not happy with the size of the toothbrush head. They also provide some helpful tips for potential buyers, such as the cost of replacement heads and the availability of generic ones. Overall, the review is informative and balanced, making it a neutral review.\n",
      "Sentiment: Negative\n",
      "Reasoning: The review starts off with a positive note about the product being on sale, but quickly turns negative as the reviewer mentions a significant price increase in a short period of time. The reviewer also notes a decrease in quality compared to previous versions of the product. Additionally, the fact that the motor started making a funny noise after just a year and the warranty had already expired is another negative point. The only positive aspect mentioned is the fast delivery time. Overall, the negative points outweigh the positive ones, making this a negative review.\n"
     ]
    }
   ],
   "source": [
    "for i in range(len(reviews)):\n",
    "    prompt = f\"\"\"\n",
    "    Your task is to generate a an analysis of the sentiment of a product \n",
    "    review from an ecommerce site to determine if customers would be \n",
    "    likely to buy similar products.\n",
    "\n",
    "    Indicate whether this review, delimited by triple backticks, is a \n",
    "    negative, positive, or neutral review. Next, indicate why you would\n",
    "    classify it that way in about 50 words.\n",
    "\n",
    "    Structure your response like this:\n",
    "    Sentiment: \n",
    "    Reasoning:\n",
    "\n",
    "    Review: ```{reviews[i]}```\n",
    "    \"\"\"\n",
    "\n",
    "    response = get_completion(prompt)\n",
    "    print(response)"
   ]
  },
  {
   "cell_type": "code",
   "execution_count": 23,
   "id": "f89b23a5",
   "metadata": {},
   "outputs": [
    {
     "name": "stdout",
     "output_type": "stream",
     "text": [
      "0 Tone: Positive, but slightly disappointed\n",
      "Emotions: Love, happiness, contentment, disappointment\n",
      "Reasoning: The reviewer expresses love and happiness for the panda plush toy, describing it as soft, super cute, and with a friendly look. They also express contentment that their daughter loves it and takes it everywhere. However, the reviewer is slightly disappointed that the toy is smaller than expected for the price paid, and suggests that there may be other options that are bigger for the same price. Despite this disappointment, the reviewer still expresses positivity by mentioning that the toy arrived a day earlier than expected and that they got to play with it themselves before giving it to their daughter. \n",
      "\n",
      "1 Tone: Positive\n",
      "Emotions: Satisfaction, Gratitude\n",
      "Reasoning: The writer of the review expresses satisfaction with the product and the company's customer service. They are grateful for the prompt response and resolution of their issues. The use of words like \"nice lamp,\" \"additional storage,\" \"not too high of a price point,\" and \"easy to put together\" indicate a positive experience with the product. The writer also mentions the company's willingness to send a replacement and quickly provide a missing piece, which shows that they value their customers. Overall, the tone is positive and the emotions are satisfaction and gratitude. \n",
      "\n",
      "2 Tone: Neutral\n",
      "Emotions: Satisfaction, Disappointment\n",
      "Reasoning: The writer of the review seems to be satisfied with the battery life of the toothbrush and the feeling of cleanliness it provides. However, they express disappointment with the size of the toothbrush head and its inability to effectively clean between teeth. The overall tone of the review is neutral, as the writer presents both positive and negative aspects of the product without a strong emotional bias. \n",
      "\n",
      "3 Tone: Disappointed\n",
      "Emotions: Frustration, Disappointment\n",
      "Reasoning: The writer of the review expresses disappointment and frustration with the price increase of the product in December, which they attribute to price gouging. They also mention that the quality of the product has gone down, which adds to their disappointment. The fact that they had to buy another one after a year because the warranty had expired also adds to their frustration. Overall, the tone of the review is one of disappointment with the product and the company. \n",
      "\n"
     ]
    }
   ],
   "source": [
    "for i in range(len(reviews)):\n",
    "    prompt = f\"\"\"\n",
    "    Your task is to analyze the tone and emotion present in a product \n",
    "    review from an ecommerce site. This will be used to help someone \n",
    "    on the autism spectrum to understand the emotions behind words.\n",
    "\n",
    "    Indicate the tone and any relevant emotions the writer of the review \n",
    "    may have been feeling. The review is indicated below, delimited by triple backticks.\n",
    "    Next, indicate why you would assign it that tone and emotions.\n",
    "\n",
    "    Structure your response like this:\n",
    "    Tone: <tone>\n",
    "    Emotions: <list of emotions>\n",
    "    Reasoning: <text with reasoning>\n",
    "\n",
    "    Review: ```{reviews[i]}```\n",
    "    \"\"\"\n",
    "\n",
    "    response = get_completion(prompt)\n",
    "    print(i, response, '\\n')"
   ]
  }
 ],
 "metadata": {
  "kernelspec": {
   "display_name": "Python 3 (ipykernel)",
   "language": "python",
   "name": "python3"
  },
  "language_info": {
   "codemirror_mode": {
    "name": "ipython",
    "version": 3
   },
   "file_extension": ".py",
   "mimetype": "text/x-python",
   "name": "python",
   "nbconvert_exporter": "python",
   "pygments_lexer": "ipython3",
   "version": "3.11.2"
  }
 },
 "nbformat": 4,
 "nbformat_minor": 5
}
