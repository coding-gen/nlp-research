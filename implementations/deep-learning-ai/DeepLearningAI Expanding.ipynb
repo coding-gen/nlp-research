{
 "cells": [
  {
   "cell_type": "markdown",
   "id": "4f4f7e8a",
   "metadata": {},
   "source": [
    "# ChatGPT Guide from DeepLearning.AI\n",
    "tutorial source: https://learn.deeplearning.ai/chatgpt-prompt-eng/lesson/7/expanding"
   ]
  },
  {
   "cell_type": "markdown",
   "id": "05057362",
   "metadata": {},
   "source": [
    "# Set OpenAI Key\n",
    "Set the key as env var or in .env file. See file .env.example for an example format."
   ]
  },
  {
   "cell_type": "code",
   "execution_count": 2,
   "id": "e240b675",
   "metadata": {},
   "outputs": [],
   "source": [
    "import openai\n",
    "import os\n",
    "\n",
    "from dotenv import load_dotenv, find_dotenv\n",
    "_ = load_dotenv(find_dotenv())\n",
    "\n",
    "openai.api_key  = os.getenv('OPENAI_API_KEY')"
   ]
  },
  {
   "cell_type": "code",
   "execution_count": null,
   "id": "0bb9fffe",
   "metadata": {},
   "outputs": [],
   "source": [
    "# consider increasing the temperature, \n",
    "# which controls the randomness of replies, as in annealing."
   ]
  },
  {
   "cell_type": "code",
   "execution_count": 15,
   "id": "7ede4f41",
   "metadata": {},
   "outputs": [],
   "source": [
    "def get_completion(prompt, model=\"gpt-3.5-turbo\"):\n",
    "    messages = [{\"role\": \"user\", \"content\": prompt}]\n",
    "    response = openai.ChatCompletion.create(\n",
    "        model=model,\n",
    "        messages=messages,\n",
    "        temperature=0.7, # randomness or epsilon in annealing\n",
    "    )\n",
    "    return response.choices[0].message[\"content\"]"
   ]
  },
  {
   "cell_type": "markdown",
   "id": "d5bfdb9a",
   "metadata": {},
   "source": [
    "# Customize auto reply"
   ]
  },
  {
   "cell_type": "code",
   "execution_count": 4,
   "id": "34f0f286",
   "metadata": {},
   "outputs": [],
   "source": [
    "# given the sentiment from the lesson on \"inferring\",\n",
    "# and the original customer message, customize the email\n",
    "sentiment = \"negative\"\n",
    "\n",
    "# review for a blender\n",
    "review = f\"\"\"\n",
    "So, they still had the 17 piece system on seasonal \n",
    "sale for around $49 in the month of November, about \n",
    "half off, but for some reason (call it price gouging) \n",
    "around the second week of December the prices all went \n",
    "up to about anywhere from between $70-$89 for the same \n",
    "system. And the 11 piece system went up around $10 or \n",
    "so in price also from the earlier sale price of $29. \n",
    "So it looks okay, but if you look at the base, the part \n",
    "where the blade locks into place doesn’t look as good \n",
    "as in previous editions from a few years ago, but I \n",
    "plan to be very gentle with it (example, I crush \n",
    "very hard items like beans, ice, rice, etc. in the \n",
    "blender first then pulverize them in the serving size \n",
    "I want in the blender then switch to the whipping \n",
    "blade for a finer flour, and use the cross cutting blade \n",
    "first when making smoothies, then use the flat blade \n",
    "if I need them finer/less pulpy). Special tip when making \n",
    "smoothies, finely cut and freeze the fruits and \n",
    "vegetables (if using spinach-lightly stew soften the  \n",
    "spinach then freeze until ready for use-and if making \n",
    "sorbet, use a small to medium sized food processor)  \n",
    "that you plan to use that way you can avoid adding so \n",
    "much ice if at all-when making your smoothie. \n",
    "After about a year, the motor was making a funny noise. \n",
    "I called customer service but the warranty expired \n",
    "already, so I had to buy another one. FYI: The overall \n",
    "quality has gone done in these types of products, so \n",
    "they are kind of counting on brand recognition and \n",
    "consumer loyalty to maintain sales. Got it in about \n",
    "two days.\n",
    "\"\"\""
   ]
  },
  {
   "cell_type": "code",
   "execution_count": 16,
   "id": "776eea6d",
   "metadata": {},
   "outputs": [
    {
     "name": "stdout",
     "output_type": "stream",
     "text": [
      "Dear valued customer,\n",
      "\n",
      "Thank you for taking the time to leave a review regarding your recent purchase. We apologize for any inconvenience caused by the fluctuation in prices and the quality of the product not meeting your expectations.\n",
      "\n",
      "We take all feedback seriously and would like to offer our sincerest apologies for any frustration caused. If you would like to discuss this matter further, please do not hesitate to reach out to our customer service team who will be happy to assist you.\n",
      "\n",
      "We appreciate your loyalty to our brand and hope to have the opportunity to better serve you in the future.\n",
      "\n",
      "Best regards,\n",
      "AI customer agent\n"
     ]
    }
   ],
   "source": [
    "prompt = f\"\"\"\n",
    "You are a customer service AI assistant.\n",
    "Your task is to send an email reply to a valued customer.\n",
    "Given the customer email delimited by ```, \n",
    "Generate a reply to thank the customer for their review.\n",
    "If the sentiment is positive or neutral, only thank them for their review.\n",
    "If the sentiment is negative, apologize and suggest that they can reach out \n",
    "to customer service. \n",
    "If the review talks about the price, ignore that part and respond as though it wasn't in the review.\n",
    "Make sure to use specific details from the review, except don't talk about the cost of the product.\n",
    "Write in a concise and professional tone.\n",
    "Sign the email as `AI customer agent`.\n",
    "Customer review: ```{review}```\n",
    "Review sentiment: {sentiment}\n",
    "\"\"\"\n",
    "response = get_completion(prompt)\n",
    "print(response)"
   ]
  }
 ],
 "metadata": {
  "kernelspec": {
   "display_name": "Python 3 (ipykernel)",
   "language": "python",
   "name": "python3"
  },
  "language_info": {
   "codemirror_mode": {
    "name": "ipython",
    "version": 3
   },
   "file_extension": ".py",
   "mimetype": "text/x-python",
   "name": "python",
   "nbconvert_exporter": "python",
   "pygments_lexer": "ipython3",
   "version": "3.11.2"
  }
 },
 "nbformat": 4,
 "nbformat_minor": 5
}
