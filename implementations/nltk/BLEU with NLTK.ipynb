{
 "cells": [
  {
   "cell_type": "markdown",
   "id": "37e0e87d",
   "metadata": {},
   "source": [
    "# BLEU with NLTK"
   ]
  },
  {
   "cell_type": "code",
   "execution_count": 1,
   "id": "b6b89445",
   "metadata": {},
   "outputs": [],
   "source": [
    "# Bilingual Evaluation Understudy\n",
    "\n",
    "# sentence_bleu() \n",
    "# https://www.nltk.org/api/nltk.translate.html#nltk.translate.bleu_score\n",
    "# https://www.digitalocean.com/community/tutorials/bleu-score-in-python"
   ]
  },
  {
   "cell_type": "code",
   "execution_count": 2,
   "id": "4cf5cd84",
   "metadata": {},
   "outputs": [],
   "source": [
    "from nltk.translate.bleu_score import sentence_bleu"
   ]
  },
  {
   "cell_type": "code",
   "execution_count": null,
   "id": "44b7968f",
   "metadata": {},
   "outputs": [],
   "source": [
    "# simple tokenize data via split\n",
    "\n",
    "# reference sentences\n",
    "reference = [\n",
    "    'this is a dog'.split(),\n",
    "    'it is dog'.split(),\n",
    "    'dog it is'.split(),\n",
    "    'a dog, it is'.split() \n",
    "]\n",
    "print(reference)\n",
    "\n",
    "# candidate sentences\n",
    "# perfect match to at least 1 reference\n",
    "candidate = 'it is dog'.split()\n",
    "print('BLEU score -> {}'.format(sentence_bleu(reference, candidate)))\n",
    "\n",
    "# partial match to at least 1 reference\n",
    "candidate = 'it is a dog'.split()\n",
    "print('BLEU score -> {}'.format(sentence_bleu(reference, candidate)))"
   ]
  },
  {
   "cell_type": "code",
   "execution_count": null,
   "id": "55a46091",
   "metadata": {},
   "outputs": [],
   "source": [
    "# BLEU with n-gram scores\n",
    "# 4-gram is the default (BLEU-4)\n",
    "\n",
    "from nltk.translate.bleu_score import sentence_bleu\n",
    "reference = [\n",
    "    'this is a dog'.split(),\n",
    "    'it is dog'.split(),\n",
    "    'dog it is'.split(),\n",
    "    'a dog, it is'.split() \n",
    "]\n",
    "candidate = 'it is a dog'.split()\n",
    "\n",
    "\n",
    "\"\"\"\n",
    "Individual 1-gram: (1, 0, 0, 0).\n",
    "Individual 2-gram: (0, 1, 0, 0). \n",
    "Individual 3-gram: (1, 0, 1, 0). \n",
    "Individual 4-gram: (0, 0, 0, 1).\n",
    "\"\"\"\n",
    "\n",
    "print('Individual 1-gram: %f' % sentence_bleu(reference, candidate, weights=(1, 0, 0, 0)))\n",
    "print('Individual 2-gram: %f' % sentence_bleu(reference, candidate, weights=(0, 1, 0, 0)))\n",
    "print('Individual 3-gram: %f' % sentence_bleu(reference, candidate, weights=(0, 0, 1, 0)))\n",
    "print('Individual 4-gram: %f' % sentence_bleu(reference, candidate, weights=(0, 0, 0, 1)))\n"
   ]
  },
  {
   "cell_type": "code",
   "execution_count": null,
   "id": "18ce9a47",
   "metadata": {},
   "outputs": [],
   "source": []
  },
  {
   "cell_type": "code",
   "execution_count": null,
   "id": "9b3a8511",
   "metadata": {},
   "outputs": [],
   "source": []
  },
  {
   "cell_type": "code",
   "execution_count": null,
   "id": "9f8f2f29",
   "metadata": {},
   "outputs": [],
   "source": []
  },
  {
   "cell_type": "code",
   "execution_count": null,
   "id": "2dc19605",
   "metadata": {},
   "outputs": [],
   "source": []
  },
  {
   "cell_type": "code",
   "execution_count": null,
   "id": "541a406d",
   "metadata": {},
   "outputs": [],
   "source": []
  },
  {
   "cell_type": "code",
   "execution_count": null,
   "id": "4234ac52",
   "metadata": {},
   "outputs": [],
   "source": []
  }
 ],
 "metadata": {
  "kernelspec": {
   "display_name": "Python 3 (ipykernel)",
   "language": "python",
   "name": "python3"
  },
  "language_info": {
   "codemirror_mode": {
    "name": "ipython",
    "version": 3
   },
   "file_extension": ".py",
   "mimetype": "text/x-python",
   "name": "python",
   "nbconvert_exporter": "python",
   "pygments_lexer": "ipython3",
   "version": "3.9.6"
  }
 },
 "nbformat": 4,
 "nbformat_minor": 5
}
