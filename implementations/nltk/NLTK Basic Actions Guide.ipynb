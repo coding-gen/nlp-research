{
 "cells": [
  {
   "cell_type": "markdown",
   "id": "7ceea46c",
   "metadata": {},
   "source": [
    "# NLTK examples"
   ]
  },
  {
   "cell_type": "markdown",
   "id": "1428cc07",
   "metadata": {},
   "source": [
    "https://www.nltk.org/"
   ]
  },
  {
   "cell_type": "code",
   "execution_count": null,
   "id": "b31ad006",
   "metadata": {},
   "outputs": [],
   "source": [
    "# Visualize a parse tree\n",
    "\n",
    "import nltk\n",
    "\n",
    "# Tokenization\n",
    "sentence = \"\"\"I could have become a mass murderer after I hacked my governor module, but then I realized I could access the combined feed of entertainment channels carried on the company satellites, and it had been well over 35,000 hours or so since then, with still not much murdering, but probably, I don't know, a little under 35,000 hours of movies, serials, books, plays, and music consumed. As a heartless killing machine, I was a terrible failure.\"\"\"\n",
    "tokens = nltk.word_tokenize(sentence)\n",
    "print(f\"Tokens: {tokens}\\n\")\n",
    "\n",
    "# POS tagging\n",
    "tagged = nltk.pos_tag(tokens)\n",
    "print(f\"POS tags: {tagged[0:6]}\")\n",
    "\n",
    "# NER\n",
    "#nltk.download('maxent_ne_chunker')\n",
    "#nltk.download('words')\n",
    "entities = nltk.chunk.ne_chunk(tagged)\n",
    "print(f\"Entities: {entities}\\n\")\n",
    "\n",
    "# Parse Tree\n",
    "\n",
    "\n",
    "# Visualize the parse tree."
   ]
  },
  {
   "cell_type": "code",
   "execution_count": null,
   "id": "4024f818",
   "metadata": {},
   "outputs": [
    {
     "name": "stderr",
     "output_type": "stream",
     "text": [
      "[nltk_data] Downloading package treebank to /Users/gen/nltk_data...\n",
      "[nltk_data]   Unzipping corpora/treebank.zip.\n"
     ]
    }
   ],
   "source": [
    "# Not included: create a parse tree.\n",
    "\n",
    "# Display an existing parse tree from the Wall Street Journal dataset.\n",
    "from nltk.corpus import treebank\n",
    "nltk.download('treebank')\n",
    "\n",
    "t = treebank.parsed_sents('wsj_0001.mrg')[0]\n",
    "t.draw()"
   ]
  },
  {
   "cell_type": "code",
   "execution_count": null,
   "id": "539fd791",
   "metadata": {},
   "outputs": [],
   "source": []
  },
  {
   "cell_type": "code",
   "execution_count": null,
   "id": "0ea95366",
   "metadata": {},
   "outputs": [],
   "source": []
  }
 ],
 "metadata": {
  "kernelspec": {
   "display_name": "Python 3 (ipykernel)",
   "language": "python",
   "name": "python3"
  },
  "language_info": {
   "codemirror_mode": {
    "name": "ipython",
    "version": 3
   },
   "file_extension": ".py",
   "mimetype": "text/x-python",
   "name": "python",
   "nbconvert_exporter": "python",
   "pygments_lexer": "ipython3",
   "version": "3.9.6"
  }
 },
 "nbformat": 4,
 "nbformat_minor": 5
}
